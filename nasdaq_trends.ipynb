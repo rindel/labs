{
 "cells": [
  {
   "cell_type": "markdown",
   "metadata": {},
   "source": [
    "# Nasdaq Composite Analysis\n",
    "Provides insights into bullish and bearish days"
   ]
  },
  {
   "cell_type": "code",
   "execution_count": 1,
   "metadata": {},
   "outputs": [],
   "source": [
    "import yfinance as yf\n",
    "import pandas as pd\n",
    "import pandas_ta as ta\n",
    "import numpy as np\n",
    "import matplotlib.pyplot as plt"
   ]
  },
  {
   "cell_type": "code",
   "execution_count": 2,
   "metadata": {},
   "outputs": [],
   "source": [
    "ticker = '^ixic'"
   ]
  },
  {
   "cell_type": "code",
   "execution_count": 3,
   "metadata": {},
   "outputs": [
    {
     "name": "stderr",
     "output_type": "stream",
     "text": [
      "[*********************100%%**********************]  1 of 1 completed\n"
     ]
    }
   ],
   "source": [
    "# Fetch data for a ticker\n",
    "df = yf.download(ticker, start='2023-01-01', end='2024-09-05')"
   ]
  },
  {
   "cell_type": "code",
   "execution_count": 15,
   "metadata": {},
   "outputs": [
    {
     "data": {
      "text/html": [
       "<div>\n",
       "<style scoped>\n",
       "    .dataframe tbody tr th:only-of-type {\n",
       "        vertical-align: middle;\n",
       "    }\n",
       "\n",
       "    .dataframe tbody tr th {\n",
       "        vertical-align: top;\n",
       "    }\n",
       "\n",
       "    .dataframe thead th {\n",
       "        text-align: right;\n",
       "    }\n",
       "</style>\n",
       "<table border=\"1\" class=\"dataframe\">\n",
       "  <thead>\n",
       "    <tr style=\"text-align: right;\">\n",
       "      <th></th>\n",
       "      <th>Date</th>\n",
       "      <th>Open</th>\n",
       "      <th>High</th>\n",
       "      <th>Low</th>\n",
       "      <th>Close</th>\n",
       "      <th>Adj Close</th>\n",
       "      <th>Volume</th>\n",
       "      <th>day_of_week</th>\n",
       "      <th>Month</th>\n",
       "    </tr>\n",
       "  </thead>\n",
       "  <tbody>\n",
       "    <tr>\n",
       "      <th>0</th>\n",
       "      <td>2023-01-03</td>\n",
       "      <td>10562.05957</td>\n",
       "      <td>10613.05957</td>\n",
       "      <td>10309.160156</td>\n",
       "      <td>10386.980469</td>\n",
       "      <td>10386.980469</td>\n",
       "      <td>4780650000</td>\n",
       "      <td>Tuesday</td>\n",
       "      <td>January</td>\n",
       "    </tr>\n",
       "  </tbody>\n",
       "</table>\n",
       "</div>"
      ],
      "text/plain": [
       "        Date         Open         High           Low         Close  \\\n",
       "0 2023-01-03  10562.05957  10613.05957  10309.160156  10386.980469   \n",
       "\n",
       "      Adj Close      Volume day_of_week    Month  \n",
       "0  10386.980469  4780650000     Tuesday  January  "
      ]
     },
     "execution_count": 15,
     "metadata": {},
     "output_type": "execute_result"
    }
   ],
   "source": [
    "df.head(1)"
   ]
  },
  {
   "cell_type": "code",
   "execution_count": 6,
   "metadata": {},
   "outputs": [],
   "source": [
    "df = df.reset_index()  # This will reset the index and make the date a regular column"
   ]
  },
  {
   "cell_type": "code",
   "execution_count": 7,
   "metadata": {},
   "outputs": [],
   "source": [
    "# Convert the 'download_date' column to datetime format\n",
    "df['Date'] = pd.to_datetime(df['Date'])\n"
   ]
  },
  {
   "cell_type": "code",
   "execution_count": 12,
   "metadata": {},
   "outputs": [],
   "source": [
    "# Add columns for the day of the week and month\n",
    "df['day_of_week'] = df['Date'].dt.day_name()\n",
    "df['Month'] = df['Date'].dt.month_name()"
   ]
  },
  {
   "cell_type": "code",
   "execution_count": 14,
   "metadata": {},
   "outputs": [
    {
     "data": {
      "text/html": [
       "<div>\n",
       "<style scoped>\n",
       "    .dataframe tbody tr th:only-of-type {\n",
       "        vertical-align: middle;\n",
       "    }\n",
       "\n",
       "    .dataframe tbody tr th {\n",
       "        vertical-align: top;\n",
       "    }\n",
       "\n",
       "    .dataframe thead th {\n",
       "        text-align: right;\n",
       "    }\n",
       "</style>\n",
       "<table border=\"1\" class=\"dataframe\">\n",
       "  <thead>\n",
       "    <tr style=\"text-align: right;\">\n",
       "      <th></th>\n",
       "      <th>Date</th>\n",
       "      <th>Open</th>\n",
       "      <th>High</th>\n",
       "      <th>Low</th>\n",
       "      <th>Close</th>\n",
       "      <th>Adj Close</th>\n",
       "      <th>Volume</th>\n",
       "      <th>day_of_week</th>\n",
       "      <th>Month</th>\n",
       "    </tr>\n",
       "  </thead>\n",
       "  <tbody>\n",
       "    <tr>\n",
       "      <th>419</th>\n",
       "      <td>2024-09-04</td>\n",
       "      <td>17015.710938</td>\n",
       "      <td>17232.650391</td>\n",
       "      <td>16984.669922</td>\n",
       "      <td>17084.300781</td>\n",
       "      <td>17084.300781</td>\n",
       "      <td>5011820000</td>\n",
       "      <td>Wednesday</td>\n",
       "      <td>September</td>\n",
       "    </tr>\n",
       "  </tbody>\n",
       "</table>\n",
       "</div>"
      ],
      "text/plain": [
       "          Date          Open          High           Low         Close  \\\n",
       "419 2024-09-04  17015.710938  17232.650391  16984.669922  17084.300781   \n",
       "\n",
       "        Adj Close      Volume day_of_week      Month  \n",
       "419  17084.300781  5011820000   Wednesday  September  "
      ]
     },
     "execution_count": 14,
     "metadata": {},
     "output_type": "execute_result"
    }
   ],
   "source": [
    "df.tail(1)"
   ]
  },
  {
   "cell_type": "code",
   "execution_count": null,
   "metadata": {},
   "outputs": [],
   "source": []
  },
  {
   "cell_type": "code",
   "execution_count": null,
   "metadata": {},
   "outputs": [],
   "source": []
  },
  {
   "cell_type": "code",
   "execution_count": null,
   "metadata": {},
   "outputs": [],
   "source": []
  },
  {
   "cell_type": "markdown",
   "metadata": {},
   "source": [
    "1. Create a New Branch\n",
    "It’s good practice to create a new branch for your changes:\n",
    "\n",
    "git checkout -b my-feature-branch\n",
    "This creates a new branch called my-feature-branch and switches to it.\n",
    "\n",
    "2. Make Your Changes\n",
    "Edit your files and make the necessary changes.\n",
    "\n",
    "3. Stage and Commit Your Changes\n",
    "Once you’ve made your changes, stage and commit them:\n",
    "\n",
    "git add .\n",
    "git commit -m \"Add feature or fix description\"\n",
    "\n",
    "4. Push Your Branch to the Remote Repository\n",
    "Push your branch to the remote repository:\n",
    "\n",
    "git push origin my-feature-branch\n",
    "\n",
    "5. Open a Pull Request (PR) on GitHub\n",
    "Now that your branch is pushed, you need to create the PR on GitHub:\n",
    "\n",
    "Go to your repository on GitHub.\n",
    "You should see a button prompting you to compare and create a pull request for the newly pushed branch, or you can manually click Pull Requests and then New Pull Request.\n",
    "Select main (or your target branch) as the base branch and your feature branch (my-feature-branch) as the compare branch.\n",
    "Add a title and description for your PR explaining what changes you made and why.\n",
    "Submit the PR by clicking the Create Pull Request button.\n",
    "\n",
    "6. Review and Merge (optional)\n",
    "Once your PR is reviewed and approved, it can be merged into the main branch either by yourself (if you have permission) or by someone else on the project.\n",
    "\n",
    "git branch -r =>confirm remote branches\n",
    "git branch --set-upstream-to=origin/main main =>\n",
    "Set the Remote Tracking Branch. Once you've pushed the branch, set it to track the remote branch/\n",
    "git remote -v => check if your connected to correct repo\n",
    "git remote add origin https://github.com/rindel/labs.git\n",
    "git remote set-url origin https://github.com/rindel/labs.git"
   ]
  },
  {
   "cell_type": "markdown",
   "metadata": {},
   "source": []
  }
 ],
 "metadata": {
  "kernelspec": {
   "display_name": "Python 3",
   "language": "python",
   "name": "python3"
  },
  "language_info": {
   "codemirror_mode": {
    "name": "ipython",
    "version": 3
   },
   "file_extension": ".py",
   "mimetype": "text/x-python",
   "name": "python",
   "nbconvert_exporter": "python",
   "pygments_lexer": "ipython3",
   "version": "3.11.0"
  }
 },
 "nbformat": 4,
 "nbformat_minor": 2
}
