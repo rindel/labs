{
 "cells": [
  {
   "cell_type": "markdown",
   "metadata": {},
   "source": []
  },
  {
   "cell_type": "markdown",
   "metadata": {},
   "source": [
    "creates a new branch called my-feature-branch and switches to it<br>\n",
    "> git checkout -b my-feature-branch   "
   ]
  },
  {
   "cell_type": "markdown",
   "metadata": {},
   "source": [
    "to sync while on another branch<br>\n",
    "> git fetch origin master:master"
   ]
  },
  {
   "cell_type": "markdown",
   "metadata": {},
   "source": [
    "Once you’ve made your changes, stage and commit them:<br>\n",
    "> git add .<br>\n",
    "> git commit -m \"Add feature or fix description\"<br>"
   ]
  },
  {
   "cell_type": "markdown",
   "metadata": {},
   "source": [
    "Push Your Branch to the Remote Repository<br>\n",
    "> git push origin my-feature-branch"
   ]
  },
  {
   "cell_type": "markdown",
   "metadata": {},
   "source": [
    "Create a Pull Request from the command line<br>\n",
    "> gh pr create --base main --head my-feature-branch --title \"Your PR Title\" --body \"Description of the PR\"\n"
   ]
  },
  {
   "cell_type": "markdown",
   "metadata": {},
   "source": [
    "Merge the PR from the comma<br>\n",
    "> gh pr merge <PR_NUMBER>\n",
    "\n",
    "> gh pr merge <PR_NUMBER> --squash<br>\n",
    "> gh pr merge <PR_NUMBER> --rebase<br>\n",
    "> gh pr merge <PR_NUMBER> --merge<br>"
   ]
  },
  {
   "cell_type": "markdown",
   "metadata": {},
   "source": [
    "Delete the feature branch (optional)<br>\n",
    "> git branch -d my-feature-branch   # Delete locally<br>\n",
    "> git push origin --delete my-feature-branch  # Delete remotely<br>"
   ]
  },
  {
   "cell_type": "markdown",
   "metadata": {},
   "source": [
    "Check out the main branch:<br>\n",
    "First, switch to the main branch locally:<br>\n",
    "> git checkout main\n",
    "\n",
    "Pull the latest changes from main to ensure your local main is up to date with the remote main<br>\n",
    "> git pull origin main\n",
    "\n",
    "Merge the staging branch into main<br>\n",
    "> git merge staging\n"
   ]
  },
  {
   "cell_type": "markdown",
   "metadata": {},
   "source": [
    "Push the changes to the remote main<br>\n",
    "> git push origin main\n"
   ]
  },
  {
   "cell_type": "markdown",
   "metadata": {},
   "source": [
    "create a Pull Request from staging to main<br>\n",
    "> gh pr create --base main --head staging --title \"Merge Staging into Main\" --body \"Merging latest changes from staging into main\"\n"
   ]
  },
  {
   "cell_type": "markdown",
   "metadata": {},
   "source": [
    "merge it directly via CLI<br>\n",
    "> gh pr merge <PR_NUMBER>\n"
   ]
  },
  {
   "cell_type": "markdown",
   "metadata": {},
   "source": [
    "5. Open a Pull Request (PR) on GitHub<br>\n",
    "Now that your branch is pushed, you need to create the PR on GitHub:<br>\n",
    "<br>\n",
    "Go to your repository on GitHub.<br>\n",
    "You should see a button prompting you to compare and create a pull request for the newly <br>pushed branch, or you can manually click Pull Requests and then New Pull Request.<br>\n",
    "Select main (or your target branch) as the base branch and your feature branch <br>(my-feature-branch) as the compare branch.<br>\n",
    "Add a title and description for your PR explaining what changes you made and why.<br>\n",
    "Submit the PR by clicking the Create Pull Request button.<br>\n",
    "<br>"
   ]
  },
  {
   "cell_type": "markdown",
   "metadata": {},
   "source": [
    "6. Review and Merge (optional)<br>\n",
    "Once your PR is reviewed and approved, it can be merged into the main branch either by yourself (if you have permission) or by someone else on the project.\n",
    "\n",
    "git branch -r =>confirm remote branches\n",
    "git branch --set-upstream-to=origin/main main =>\n",
    "Set the Remote Tracking Branch. Once you've pushed the branch, set it to track the remote branch/\n",
    "git remote -v => check if your connected to correct repo\n",
    "git remote add origin https://github.com/rindel/labs.git\n",
    "git remote set-url origin https://github.com/rindel/labs.git"
   ]
  },
  {
   "cell_type": "markdown",
   "metadata": {},
   "source": []
  }
 ],
 "metadata": {
  "language_info": {
   "name": "python"
  }
 },
 "nbformat": 4,
 "nbformat_minor": 2
}
